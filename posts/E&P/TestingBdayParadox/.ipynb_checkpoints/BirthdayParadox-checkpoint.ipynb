{
 "cells": [
  {
   "cell_type": "markdown",
   "metadata": {},
   "source": [
    "# Empircally Testing the Birthday Paradox"
   ]
  },
  {
   "cell_type": "code",
   "execution_count": 2,
   "metadata": {},
   "outputs": [],
   "source": [
    "import pandas as pd\n",
    "import random as rd"
   ]
  },
  {
   "cell_type": "markdown",
   "metadata": {},
   "source": [
    "### This dataset is the number of birthdays in the U.S. each day of 1978. "
   ]
  },
  {
   "cell_type": "code",
   "execution_count": 3,
   "metadata": {},
   "outputs": [],
   "source": [
    "df = pd.read_csv('birthday.csv', names = ['Date', 'Quantity'])"
   ]
  },
  {
   "cell_type": "code",
   "execution_count": 4,
   "metadata": {},
   "outputs": [
    {
     "data": {
      "text/html": [
       "<div>\n",
       "<style scoped>\n",
       "    .dataframe tbody tr th:only-of-type {\n",
       "        vertical-align: middle;\n",
       "    }\n",
       "\n",
       "    .dataframe tbody tr th {\n",
       "        vertical-align: top;\n",
       "    }\n",
       "\n",
       "    .dataframe thead th {\n",
       "        text-align: right;\n",
       "    }\n",
       "</style>\n",
       "<table border=\"1\" class=\"dataframe\">\n",
       "  <thead>\n",
       "    <tr style=\"text-align: right;\">\n",
       "      <th></th>\n",
       "      <th>Date</th>\n",
       "      <th>Quantity</th>\n",
       "    </tr>\n",
       "  </thead>\n",
       "  <tbody>\n",
       "    <tr>\n",
       "      <th>0</th>\n",
       "      <td>1/1/78</td>\n",
       "      <td>7701</td>\n",
       "    </tr>\n",
       "    <tr>\n",
       "      <th>1</th>\n",
       "      <td>1/2/78</td>\n",
       "      <td>7527</td>\n",
       "    </tr>\n",
       "    <tr>\n",
       "      <th>2</th>\n",
       "      <td>1/3/78</td>\n",
       "      <td>8825</td>\n",
       "    </tr>\n",
       "    <tr>\n",
       "      <th>3</th>\n",
       "      <td>1/4/78</td>\n",
       "      <td>8859</td>\n",
       "    </tr>\n",
       "    <tr>\n",
       "      <th>4</th>\n",
       "      <td>1/5/78</td>\n",
       "      <td>9043</td>\n",
       "    </tr>\n",
       "  </tbody>\n",
       "</table>\n",
       "</div>"
      ],
      "text/plain": [
       "     Date  Quantity\n",
       "0  1/1/78      7701\n",
       "1  1/2/78      7527\n",
       "2  1/3/78      8825\n",
       "3  1/4/78      8859\n",
       "4  1/5/78      9043"
      ]
     },
     "execution_count": 4,
     "metadata": {},
     "output_type": "execute_result"
    }
   ],
   "source": [
    "df.head()"
   ]
  },
  {
   "cell_type": "markdown",
   "metadata": {},
   "source": [
    "### Let us calculate the probability that two people "
   ]
  },
  {
   "cell_type": "code",
   "execution_count": null,
   "metadata": {},
   "outputs": [],
   "source": []
  },
  {
   "cell_type": "code",
   "execution_count": 5,
   "metadata": {},
   "outputs": [],
   "source": [
    "birthdays = []\n",
    "count = 0;\n",
    "for i in df['Quantity']:\n",
    "    for j in range(i):\n",
    "        birthdays.append(count)\n",
    "    count += 1"
   ]
  },
  {
   "cell_type": "code",
   "execution_count": 6,
   "metadata": {},
   "outputs": [
    {
     "data": {
      "text/plain": [
       "3333239"
      ]
     },
     "execution_count": 6,
     "metadata": {},
     "output_type": "execute_result"
    }
   ],
   "source": [
    "b = len(birthdays)\n",
    "b"
   ]
  },
  {
   "cell_type": "code",
   "execution_count": 82,
   "metadata": {},
   "outputs": [],
   "source": [
    "def hasMatch(array):\n",
    "    array2 = pd.Series(array)\n",
    "    binaryMap = array2.duplicated()\n",
    "    if(binaryMap.sum()>=1):\n",
    "        return True\n",
    "    else:\n",
    "        return False"
   ]
  },
  {
   "cell_type": "code",
   "execution_count": 94,
   "metadata": {},
   "outputs": [
    {
     "name": "stdout",
     "output_type": "stream",
     "text": [
      "CPU times: user 49min 27s, sys: 20.6 s, total: 49min 48s\n",
      "Wall time: 48min 9s\n"
     ]
    }
   ],
   "source": [
    "%%time\n",
    "dist = []\n",
    "N = 100000\n",
    "for n in range(2,100):\n",
    "    matches = 0.0;\n",
    "    for i in range(0,N): # run trial 100 times\n",
    "        selections = []\n",
    "        for j in range(n): # select n random people\n",
    "            x = birthdays[rd.randint(0,b-1)]\n",
    "            selections.append(x)\n",
    "        if(hasMatch(selections)):\n",
    "            matches += 1.0\n",
    "    dist.append(matches/N)"
   ]
  },
  {
   "cell_type": "code",
   "execution_count": 95,
   "metadata": {},
   "outputs": [
    {
     "data": {
      "text/plain": [
       "[0.00291,\n",
       " 0.00875,\n",
       " 0.01648,\n",
       " 0.02808,\n",
       " 0.04135,\n",
       " 0.05626,\n",
       " 0.07544,\n",
       " 0.0945,\n",
       " 0.11667,\n",
       " 0.14118,\n",
       " 0.1694,\n",
       " 0.19615,\n",
       " 0.22233,\n",
       " 0.25541,\n",
       " 0.28586,\n",
       " 0.31904,\n",
       " 0.35129,\n",
       " 0.38151,\n",
       " 0.41549,\n",
       " 0.44633,\n",
       " 0.47634,\n",
       " 0.50968,\n",
       " 0.54129,\n",
       " 0.57429,\n",
       " 0.5989,\n",
       " 0.63062,\n",
       " 0.65575,\n",
       " 0.6837,\n",
       " 0.70995,\n",
       " 0.73155,\n",
       " 0.75622,\n",
       " 0.777,\n",
       " 0.79662,\n",
       " 0.81568,\n",
       " 0.83383,\n",
       " 0.84928,\n",
       " 0.86625,\n",
       " 0.87934,\n",
       " 0.8934,\n",
       " 0.90424,\n",
       " 0.91597,\n",
       " 0.92493,\n",
       " 0.93524,\n",
       " 0.94219,\n",
       " 0.94968,\n",
       " 0.95659,\n",
       " 0.96164,\n",
       " 0.96729,\n",
       " 0.97159,\n",
       " 0.97559,\n",
       " 0.9785,\n",
       " 0.98155,\n",
       " 0.9844,\n",
       " 0.98653,\n",
       " 0.98858,\n",
       " 0.99034,\n",
       " 0.99247,\n",
       " 0.99314,\n",
       " 0.99451,\n",
       " 0.99547,\n",
       " 0.99606,\n",
       " 0.99622,\n",
       " 0.99719,\n",
       " 0.99746,\n",
       " 0.99811,\n",
       " 0.9984,\n",
       " 0.99897,\n",
       " 0.9991,\n",
       " 0.9992,\n",
       " 0.99931,\n",
       " 0.99952,\n",
       " 0.99961,\n",
       " 0.99962,\n",
       " 0.99972,\n",
       " 0.99979,\n",
       " 0.99989,\n",
       " 0.99987,\n",
       " 0.99986,\n",
       " 0.99993,\n",
       " 0.99988,\n",
       " 0.99995,\n",
       " 0.99999,\n",
       " 0.99997,\n",
       " 0.99999,\n",
       " 0.99997,\n",
       " 0.99998,\n",
       " 0.99999,\n",
       " 1.0,\n",
       " 1.0,\n",
       " 1.0,\n",
       " 1.0,\n",
       " 1.0,\n",
       " 1.0,\n",
       " 1.0,\n",
       " 1.0,\n",
       " 1.0,\n",
       " 1.0,\n",
       " 1.0]"
      ]
     },
     "execution_count": 95,
     "metadata": {},
     "output_type": "execute_result"
    }
   ],
   "source": [
    "dist"
   ]
  },
  {
   "cell_type": "code",
   "execution_count": 70,
   "metadata": {},
   "outputs": [
    {
     "ename": "AttributeError",
     "evalue": "'list' object has no attribute 'duplicated'",
     "output_type": "error",
     "traceback": [
      "\u001b[0;31m---------------------------------------------------------------------------\u001b[0m",
      "\u001b[0;31mAttributeError\u001b[0m                            Traceback (most recent call last)",
      "\u001b[0;32m<ipython-input-70-b8c4cdf1ceb6>\u001b[0m in \u001b[0;36m<module>\u001b[0;34m\u001b[0m\n\u001b[0;32m----> 1\u001b[0;31m \u001b[0mselections\u001b[0m\u001b[0;34m.\u001b[0m\u001b[0mduplicated\u001b[0m\u001b[0;34m(\u001b[0m\u001b[0;34m)\u001b[0m\u001b[0;34m\u001b[0m\u001b[0;34m\u001b[0m\u001b[0m\n\u001b[0m",
      "\u001b[0;31mAttributeError\u001b[0m: 'list' object has no attribute 'duplicated'"
     ]
    }
   ],
   "source": [
    "selections = []\n",
    "for i in range(23):\n",
    "    x = birthdays[rd.randint(0,b-1)]\n",
    "    selections.append(x)\n",
    "#print(selections)\n",
    "hasMatch(selections)"
   ]
  },
  {
   "cell_type": "code",
   "execution_count": 25,
   "metadata": {},
   "outputs": [
    {
     "data": {
      "text/plain": [
       "[0.0, 0.0]"
      ]
     },
     "execution_count": 25,
     "metadata": {},
     "output_type": "execute_result"
    }
   ],
   "source": []
  },
  {
   "cell_type": "code",
   "execution_count": null,
   "metadata": {},
   "outputs": [],
   "source": []
  }
 ],
 "metadata": {
  "kernelspec": {
   "display_name": "Python 3",
   "language": "python",
   "name": "python3"
  },
  "language_info": {
   "codemirror_mode": {
    "name": "ipython",
    "version": 3
   },
   "file_extension": ".py",
   "mimetype": "text/x-python",
   "name": "python",
   "nbconvert_exporter": "python",
   "pygments_lexer": "ipython3",
   "version": "3.8.5"
  }
 },
 "nbformat": 4,
 "nbformat_minor": 4
}
